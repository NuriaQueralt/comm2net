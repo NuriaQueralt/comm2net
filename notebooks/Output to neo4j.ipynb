{
 "cells": [
  {
   "cell_type": "code",
   "execution_count": 1,
   "metadata": {
    "collapsed": false
   },
   "outputs": [],
   "source": [
    "import ndex2\n",
    "from neo4jrestclient.client import GraphDatabase"
   ]
  },
  {
   "cell_type": "code",
   "execution_count": 2,
   "metadata": {
    "collapsed": true
   },
   "outputs": [],
   "source": [
    "network_url = 'http://dev.ndexbio.org/#/network/53bb2803-d160-11e8-adc1-525400c25d22'"
   ]
  },
  {
   "cell_type": "code",
   "execution_count": 3,
   "metadata": {
    "collapsed": true
   },
   "outputs": [],
   "source": [
    "def to_neo4j(nice_cx):\n",
    "    neo4j_node_lookup = {}\n",
    "    db = GraphDatabase(\"http://localhost:7474\", username=\"neo4j\", password=\"mypassword\")\n",
    "\n",
    "        # CREATE NODES\n",
    "        gene = db.labels.create(\"Gene\")\n",
    "        for k, v in nice_cx.get_nodes():\n",
    "            if nice_cx.get_node_attributes(v) is not None:\n",
    "                node_attrs = {n.get('n'): n.get('v') for n in nice_cx.get_node_attributes(v)}\n",
    "            else:\n",
    "                node_attrs = {}\n",
    "            neo4j_node_lookup[v.get('@id')] = db.nodes.create(name=v.get('n'), **node_attrs)\n",
    "            gene.add(neo4j_node_lookup[v.get('@id')])\n",
    "    \n",
    "        # CREATE EDGES\n",
    "        for k, v in nice_cx.get_edges():\n",
    "            if nice_cx.get_edge_attributes(v) is not None:\n",
    "                edge_attrs = {n.get('n'): n.get('v') for n in nice_cx.get_edge_attributes(v)}\n",
    "            else:\n",
    "                edge_attrs = {}\n",
    "            g1 = neo4j_node_lookup.get(v.get('s'))\n",
    "            g2 = neo4j_node_lookup.get(v.get('t'))\n",
    "            g1.relationships.create(v.get('i'), g2, **edge_attrs)\n",
    "\n",
    "    print('neo4j data created')\n"
   ]
  },
  {
   "cell_type": "code",
   "execution_count": 5,
   "metadata": {
    "collapsed": false
   },
   "outputs": [
    {
     "name": "stdout",
     "output_type": "stream",
     "text": [
      "neo4j data created\n",
      "Name: Untitled\n",
      "Nodes: 3\n",
      "Edges: 2\n",
      "Node Attributes: 15\n",
      "Edge Attributes: 10\n",
      "\n"
     ]
    }
   ],
   "source": [
    "uuid = network_url.split('/')[-1]\n",
    "\n",
    "nice_cx = ndex2.create_nice_cx_from_server(server='dev.ndexbio.org', username='scratch', password='scratch', uuid=uuid)\n",
    "\n",
    "to_neo4j(nice_cx)\n",
    "\n",
    "nice_cx.print_summary()"
   ]
  },
  {
   "cell_type": "code",
   "execution_count": null,
   "metadata": {
    "collapsed": true
   },
   "outputs": [],
   "source": []
  }
 ],
 "metadata": {
  "kernelspec": {
   "display_name": "vpy36",
   "language": "python",
   "name": "vpy36"
  },
  "language_info": {
   "codemirror_mode": {
    "name": "ipython",
    "version": 3
   },
   "file_extension": ".py",
   "mimetype": "text/x-python",
   "name": "python",
   "nbconvert_exporter": "python",
   "pygments_lexer": "ipython3",
   "version": "3.6.4"
  }
 },
 "nbformat": 4,
 "nbformat_minor": 0
}
